{
 "cells": [
  {
   "cell_type": "code",
   "execution_count": 1,
   "metadata": {},
   "outputs": [
    {
     "name": "stdout",
     "output_type": "stream",
     "text": [
      "Requirement already satisfied: mysql-connector-python in c:\\users\\maaz\\anaconda3\\envs\\'heart'\\lib\\site-packages (8.3.0)\n"
     ]
    }
   ],
   "source": [
    "!pip install mysql-connector-python"
   ]
  },
  {
   "cell_type": "code",
   "execution_count": 3,
   "metadata": {},
   "outputs": [],
   "source": [
    "import mysql.connector\n",
    "import os, sys\n",
    "from pathlib import Path\n",
    "from heart_disease_pred.logger import logging\n",
    "from heart_disease_pred.exception import CustomException"
   ]
  },
  {
   "cell_type": "code",
   "execution_count": 6,
   "metadata": {},
   "outputs": [],
   "source": [
    "class mysqlconnect:\n",
    "    def __init__(self):\n",
    "        host = \"localhost\"\n",
    "        user = \"root\"\n",
    "        password = \"8767M@@z052003\"\n",
    "\n",
    "        self.mydb = mysql.connector.connect(\n",
    "            host = host, \n",
    "            user = user, \n",
    "            password = password)\n",
    "\n",
    "    \n",
    "    def insert_data(self,data,predicted):\n",
    "        try:\n",
    "                \n",
    "            mycursor = self.mydb.cursor()\n",
    "\n",
    "            database = 'projects'\n",
    "            table = 'heart'\n",
    "\n",
    "            mycursor.execute(f'CREATE DATABASE IF NOT EXISTS {database};')\n",
    "            mycursor.execute(f'USE \"{database};')\n",
    "\n",
    "            mycursor.execute(f'''CREATE TABLE IF NOT EXISTS  {table} \n",
    "            (\n",
    "                    id INT AUTO_INCREMENT PRIMARY KEY,\n",
    "                    BMI FLOAT,\n",
    "                    Smoking VARCHAR(30),\n",
    "                    AlcoholDrinking VARCHAR(30),\n",
    "                    Stroke VARCHAR(30),\n",
    "                    PhysicalHealth FLOAT,\n",
    "                    MentalHealth FLOAT,\n",
    "                    DiffWalking VARCHAR(30),\n",
    "                    Sex VARCHAR(30),\n",
    "                    AgeCategory VARCHAR(30),\n",
    "                    Race VARCHAR(30),\n",
    "                    Diabetic VARCHAR(30),\n",
    "                    PhysicalActivity VARCHAR(30),\n",
    "                    GenHealth VARCHAR(30),\n",
    "                    SleepTime FLOAT,\n",
    "                    Asthma VARCHAR(30),\n",
    "                    KidneyDisease VARCHAR(30),\n",
    "                    SkinCancer VARCHAR(30),\n",
    "                    HeartDisease VARCHAR(30)\n",
    "                );'''\n",
    "            )\n",
    "\n",
    "            mycursor.execute(f'''\n",
    "                INSERT INTO heart \n",
    "                (BMI, Smoking, AlcoholDrinking, Stroke, PhysicalHealth, MentalHealth, DiffWalking, Sex, AgeCategory, Race, Diabetic, PhysicalActivity,  GenHealth,  SleepTime,  Asthma,  KidneyDisease,  SkinCancer, HeartDisease)\n",
    "                VALUES (\n",
    "                {data[\"BMI\"].iloc[0]},\n",
    "                \"{data[\"Smoking\"].iloc[0]}\",\n",
    "                \"{data[\"AlcoholDrinking\"].iloc[0]}\",\n",
    "                \"{data[\"Stroke\"].iloc[0]}\",\n",
    "                {data[\"PhysicalHealth\"].iloc[0]},\n",
    "                {data[\"MentalHealth\"].iloc[0]},\n",
    "                \"{data[\"DiffWalking\"].iloc[0]}\",\n",
    "                \"{data[\"Sex\"].iloc[0]}\",\n",
    "                \"{data[\"AgeCategory\"].iloc[0]}\",\n",
    "                \"{data[\"Race\"].iloc[0]}\",\n",
    "                \"{data[\"Diabetic\"].iloc[0]}\",\n",
    "                \"{data[\"PhysicalActivity\"].iloc[0]}\",\n",
    "                \"{data[\"GenHealth\"].iloc[0]}\",\n",
    "                {data[\"SleepTime\"].iloc[0]},\n",
    "                \"{data[\"Asthma\"].iloc[0]}\",\n",
    "                \"{data[\"KidneyDisease\"].iloc[0]}\",\n",
    "                \"{data[\"SkinCancer\"].iloc[0]}\",\n",
    "                \"{predicted}\n",
    "                )\n",
    "                '''.replace('\\n                ','')\n",
    "            )\n",
    "\n",
    "            mycursor.execute(f'SELEC * FROM \"{table};')\n",
    "\n",
    "            self.mydb.close()\n",
    "\n",
    "        except Exception as e:\n",
    "            raise CustomException(e,sys)\n",
    "\n",
    "\n",
    "\n",
    "\n",
    "        \n"
   ]
  },
  {
   "cell_type": "code",
   "execution_count": 17,
   "metadata": {},
   "outputs": [
    {
     "data": {
      "text/plain": [
       "'kdv\\ndsv\\n\"dac\"\\ndasclsl  \\'MMMMM\\'\\nsfd'"
      ]
     },
     "execution_count": 17,
     "metadata": {},
     "output_type": "execute_result"
    }
   ],
   "source": [
    "s = '''kdv\n",
    "dsv\n",
    "\"dac\"\n",
    "dasclsl  'MMMMM'\n",
    "sfd'''\n",
    "\n",
    "s"
   ]
  },
  {
   "cell_type": "code",
   "execution_count": 18,
   "metadata": {},
   "outputs": [
    {
     "name": "stdout",
     "output_type": "stream",
     "text": [
      "Original String: This is a 'sample' string with single quotes.\n",
      "Converted String: This is a \"sample\" string with single quotes.\n"
     ]
    }
   ],
   "source": [
    "original_string = \"This is a 'sample' string with single quotes.\"\n",
    "converted_string = original_string.replace(\"'\", \"\\\"\")\n",
    "\n",
    "print(\"Original String:\", original_string)\n",
    "print(\"Converted String:\", converted_string)\n"
   ]
  },
  {
   "cell_type": "code",
   "execution_count": 19,
   "metadata": {},
   "outputs": [
    {
     "data": {
      "text/plain": [
       "\" 'No',\\n'Yes',\\n'No',\\n\""
      ]
     },
     "execution_count": 19,
     "metadata": {},
     "output_type": "execute_result"
    }
   ],
   "source": [
    "string = ''' 'No',\n",
    "'Yes',\n",
    "'No',\n",
    "'''\n",
    "string"
   ]
  },
  {
   "cell_type": "code",
   "execution_count": 22,
   "metadata": {},
   "outputs": [
    {
     "data": {
      "text/plain": [
       "'Female'"
      ]
     },
     "execution_count": 22,
     "metadata": {},
     "output_type": "execute_result"
    }
   ],
   "source": [
    "import pandas as pd\n",
    "\n",
    "df = pd.read_csv('D://PW_DS//Machine_Learning//End-To-End-ML-Project-Implementation//artifacts//data_transformation//test_data.csv')\n",
    "df['Sex'].iloc[0]\n"
   ]
  },
  {
   "cell_type": "code",
   "execution_count": 39,
   "metadata": {},
   "outputs": [],
   "source": [
    "val = f'''\n",
    "                {df[\"BMI\"].iloc[0]},\n",
    "                \"{df[\"Smoking\"].iloc[0]}\",\n",
    "                \"{df[\"AlcoholDrinking\"].iloc[0]}\",\n",
    "                \"{df[\"Stroke\"].iloc[0]}\",\n",
    "                {df[\"PhysicalHealth\"].iloc[0]},\n",
    "                {df[\"MentalHealth\"].iloc[0]},\n",
    "                \"{df[\"DiffWalking\"].iloc[0]}\",\n",
    "                \"{df[\"Sex\"].iloc[0]}\",\n",
    "                \"{df[\"AgeCategory\"].iloc[0]}\",\n",
    "                \"{df[\"Race\"].iloc[0]}\",\n",
    "                \"{df[\"Diabetic\"].iloc[0]}\",\n",
    "                \"{df[\"PhysicalActivity\"].iloc[0]}\",\n",
    "                \"{df[\"GenHealth\"].iloc[0]}\",\n",
    "                {df[\"SleepTime\"].iloc[0]},\n",
    "                \"{df[\"Asthma\"].iloc[0]}\",\n",
    "                \"{df[\"KidneyDisease\"].iloc[0]}\",\n",
    "                \"{df[\"SkinCancer\"].iloc[0]}\",\n",
    "                \"predicted\"\n",
    "                '''"
   ]
  },
  {
   "cell_type": "code",
   "execution_count": 40,
   "metadata": {},
   "outputs": [
    {
     "data": {
      "text/plain": [
       "'31.49181902764994,\"No\",\"No\",\"No\",0.0,0.8145280879688314,\"No\",\"Female\",\"70-74\",\"Other\",\"No\",\"Yes\",\"Excellent\",7.728490637343722,\"No\",\"No\",\"Yes\",\"predicted\"'"
      ]
     },
     "execution_count": 40,
     "metadata": {},
     "output_type": "execute_result"
    }
   ],
   "source": [
    "val.replace('\\n                ','')    "
   ]
  },
  {
   "cell_type": "code",
   "execution_count": null,
   "metadata": {},
   "outputs": [],
   "source": [
    "'                '"
   ]
  },
  {
   "cell_type": "code",
   "execution_count": 43,
   "metadata": {},
   "outputs": [],
   "source": [
    "f = 'dfcd'\n",
    "s = f'check {f}'"
   ]
  },
  {
   "cell_type": "code",
   "execution_count": 44,
   "metadata": {},
   "outputs": [
    {
     "data": {
      "text/plain": [
       "'check dfcd'"
      ]
     },
     "execution_count": 44,
     "metadata": {},
     "output_type": "execute_result"
    }
   ],
   "source": [
    "s"
   ]
  },
  {
   "cell_type": "code",
   "execution_count": 48,
   "metadata": {},
   "outputs": [],
   "source": [
    "s = f''' INSERT INTO heart (BMI, Smoking, AlcoholDrinking, Stroke, PhysicalHealth, MentalHealth, DiffWalking, Sex, AgeCategory, Race, Diabetic, PhysicalActivity,  GenHealth,  SleepTime,  Asthma,  KidneyDisease,  SkinCancer, HeartDisease)\n",
    "        VALUES (\n",
    "                {df[\"BMI\"].iloc[0]},\n",
    "                \"{df[\"Smoking\"].iloc[0]}\",\n",
    "                \"{df[\"AlcoholDrinking\"].iloc[0]}\",\n",
    "                \"{df[\"Stroke\"].iloc[0]}\",\n",
    "                {df[\"PhysicalHealth\"].iloc[0]},\n",
    "                {df[\"MentalHealth\"].iloc[0]},\n",
    "                \"{df[\"DiffWalking\"].iloc[0]}\",\n",
    "                \"{df[\"Sex\"].iloc[0]}\",\n",
    "                \"{df[\"AgeCategory\"].iloc[0]}\",\n",
    "                \"{df[\"Race\"].iloc[0]}\",\n",
    "                \"{df[\"Diabetic\"].iloc[0]}\",\n",
    "                \"{df[\"PhysicalActivity\"].iloc[0]}\",\n",
    "                \"{df[\"GenHealth\"].iloc[0]}\",\n",
    "                {df[\"SleepTime\"].iloc[0]},\n",
    "                \"{df[\"Asthma\"].iloc[0]}\",\n",
    "                \"{df[\"KidneyDisease\"].iloc[0]}\",\n",
    "                \"{df[\"SkinCancer\"].iloc[0]}\",\n",
    "                \"predicted\")'''"
   ]
  },
  {
   "cell_type": "code",
   "execution_count": 51,
   "metadata": {},
   "outputs": [],
   "source": [
    "t = s.replace('\\n                ','')"
   ]
  },
  {
   "cell_type": "code",
   "execution_count": 52,
   "metadata": {},
   "outputs": [
    {
     "data": {
      "text/plain": [
       "' INSERT INTO heart (BMI, Smoking, AlcoholDrinking, Stroke, PhysicalHealth, MentalHealth, DiffWalking, Sex, AgeCategory, Race, Diabetic, PhysicalActivity,  GenHealth,  SleepTime,  Asthma,  KidneyDisease,  SkinCancer, HeartDisease)\\n        VALUES (31.49181902764994,\"No\",\"No\",\"No\",0.0,0.8145280879688314,\"No\",\"Female\",\"70-74\",\"Other\",\"No\",\"Yes\",\"Excellent\",7.728490637343722,\"No\",\"No\",\"Yes\",\"predicted\")'"
      ]
     },
     "execution_count": 52,
     "metadata": {},
     "output_type": "execute_result"
    }
   ],
   "source": [
    "t"
   ]
  },
  {
   "cell_type": "code",
   "execution_count": 53,
   "metadata": {},
   "outputs": [
    {
     "data": {
      "text/plain": [
       "' INSERT INTO heart (BMI, Smoking, AlcoholDrinking, Stroke, PhysicalHealth, MentalHealth, DiffWalking, Sex, AgeCategory, Race, Diabetic, PhysicalActivity,  GenHealth,  SleepTime,  Asthma,  KidneyDisease,  SkinCancer, HeartDisease) VALUES (31.49181902764994,\"No\",\"No\",\"No\",0.0,0.8145280879688314,\"No\",\"Female\",\"70-74\",\"Other\",\"No\",\"Yes\",\"Excellent\",7.728490637343722,\"No\",\"No\",\"Yes\",\"predicted\")'"
      ]
     },
     "execution_count": 53,
     "metadata": {},
     "output_type": "execute_result"
    }
   ],
   "source": [
    "t.replace('\\n       ','')"
   ]
  },
  {
   "cell_type": "code",
   "execution_count": null,
   "metadata": {},
   "outputs": [],
   "source": []
  },
  {
   "cell_type": "code",
   "execution_count": null,
   "metadata": {},
   "outputs": [],
   "source": []
  }
 ],
 "metadata": {
  "kernelspec": {
   "display_name": "'heart'",
   "language": "python",
   "name": "python3"
  },
  "language_info": {
   "codemirror_mode": {
    "name": "ipython",
    "version": 3
   },
   "file_extension": ".py",
   "mimetype": "text/x-python",
   "name": "python",
   "nbconvert_exporter": "python",
   "pygments_lexer": "ipython3",
   "version": "3.8.0"
  }
 },
 "nbformat": 4,
 "nbformat_minor": 2
}
