{
 "cells": [
  {
   "cell_type": "code",
   "execution_count": 1,
   "metadata": {},
   "outputs": [],
   "source": [
    "import os"
   ]
  },
  {
   "cell_type": "code",
   "execution_count": 2,
   "metadata": {},
   "outputs": [
    {
     "data": {
      "text/plain": [
       "'d:\\\\PW_DS\\\\Machine_Learning\\\\End-To-End-ML-Project-Implementation\\\\research'"
      ]
     },
     "execution_count": 2,
     "metadata": {},
     "output_type": "execute_result"
    }
   ],
   "source": [
    "pwd"
   ]
  },
  {
   "cell_type": "code",
   "execution_count": 3,
   "metadata": {},
   "outputs": [],
   "source": [
    "os.chdir('../')"
   ]
  },
  {
   "cell_type": "code",
   "execution_count": 4,
   "metadata": {},
   "outputs": [
    {
     "data": {
      "text/plain": [
       "'d:\\\\PW_DS\\\\Machine_Learning\\\\End-To-End-ML-Project-Implementation'"
      ]
     },
     "execution_count": 4,
     "metadata": {},
     "output_type": "execute_result"
    }
   ],
   "source": [
    "pwd"
   ]
  },
  {
   "cell_type": "markdown",
   "metadata": {},
   "source": [
    "## Entity"
   ]
  },
  {
   "cell_type": "code",
   "execution_count": 9,
   "metadata": {},
   "outputs": [],
   "source": [
    "from dataclasses import dataclass\n",
    "from pathlib import Path\n",
    "\n",
    "@dataclass(frozen=True)\n",
    "class DataValidationConfig:\n",
    "    root_dir: Path\n",
    "    status: Path\n",
    "    data_file: Path\n",
    "    all_cols: dict\n",
    "    target_col: dict\n",
    "\n"
   ]
  },
  {
   "cell_type": "markdown",
   "metadata": {},
   "source": [
    "## Config Manager"
   ]
  },
  {
   "cell_type": "code",
   "execution_count": 17,
   "metadata": {},
   "outputs": [],
   "source": [
    "from heart_disease_pred.utils.commom import  create_directories, read_yaml\n",
    "from heart_disease_pred.constants import *\n",
    "\n",
    "class ConfigManager:\n",
    "    def __init__(\n",
    "        self,\n",
    "        config_file_path = CONFIG_FILE_PATH,\n",
    "        schema_file_path = SCHEMA_FILE_PATH):\n",
    "\n",
    "        self.config = read_yaml(config_file_path)\n",
    "        self.schema = read_yaml(schema_file_path)\n",
    "\n",
    "        create_directories([self.config.artifacts_root])\n",
    "\n",
    "    \n",
    "    def get_data_validation_config(self) -> DataValidationConfig:\n",
    "        config = self.config.data_validation\n",
    "        schema_cols = self.schema.features\n",
    "        schema_target = self.schema.target\n",
    "\n",
    "        create_directories([config.root_dir])\n",
    "\n",
    "        data_validation_config = DataValidationConfig(\n",
    "            root_dir = Path(config.root_dir),\n",
    "            status = Path(config.status),\n",
    "            data_file = Path(config.data_file),\n",
    "            all_cols = schema_cols,\n",
    "            target_col = schema_target\n",
    "        )\n",
    "\n",
    "        return data_validation_config\n",
    "\n",
    "\n"
   ]
  },
  {
   "cell_type": "markdown",
   "metadata": {},
   "source": [
    "## Components"
   ]
  },
  {
   "cell_type": "code",
   "execution_count": 32,
   "metadata": {},
   "outputs": [],
   "source": [
    "import pandas as pd\n",
    "\n",
    "\n",
    "class DataValidation:\n",
    "    def __init__(\n",
    "        self,\n",
    "        config: DataValidationConfig):\n",
    "        self.config = config\n",
    "\n",
    "    \n",
    "    def validate_all_columns(self):\n",
    "\n",
    "        valid_status = None\n",
    "\n",
    "        df = pd.read_csv(self.config.data_file)\n",
    "        cols = df.columns\n",
    "\n",
    "        df = df.drop('Unnamed: 0',axis=1)\n",
    "\n",
    "        all_cols = list(self.config.all_cols.keys())\n",
    "\n",
    "        target_col = list(self.config.target_col.keys())[0]\n",
    "\n",
    "        all_cols.append(target_col)\n",
    "\n",
    "        try:\n",
    "            for col in cols:\n",
    "                if col  not in all_cols :\n",
    "                    valid_status = False\n",
    "                    with open(self.config.status,'w') as f:\n",
    "                        f.write(f'Validaiton Status: {valid_status}')\n",
    "\n",
    "                else:\n",
    "                    valid_status = True\n",
    "                    with open(self.config.status,'w') as f:\n",
    "                        f.write(f'Validaiton Status: {valid_status}')\n",
    "                    # break\n",
    "            \n",
    "            return valid_status\n",
    "\n",
    "        except Exception as e:\n",
    "            raise CustomException(e,sys)\n",
    "        \n",
    "\n",
    "\n",
    "\n",
    "        "
   ]
  },
  {
   "cell_type": "markdown",
   "metadata": {},
   "source": [
    "## Pipeline"
   ]
  },
  {
   "cell_type": "code",
   "execution_count": 33,
   "metadata": {},
   "outputs": [],
   "source": [
    "config = ConfigManager()\n",
    "\n",
    "data_validation = DataValidation(config.get_data_validation_config())\n",
    "\n",
    "data_validation.validate_all_columns()\n"
   ]
  },
  {
   "cell_type": "code",
   "execution_count": null,
   "metadata": {},
   "outputs": [],
   "source": []
  },
  {
   "cell_type": "code",
   "execution_count": null,
   "metadata": {},
   "outputs": [],
   "source": []
  }
 ],
 "metadata": {
  "kernelspec": {
   "display_name": "'heart'",
   "language": "python",
   "name": "python3"
  },
  "language_info": {
   "codemirror_mode": {
    "name": "ipython",
    "version": 3
   },
   "file_extension": ".py",
   "mimetype": "text/x-python",
   "name": "python",
   "nbconvert_exporter": "python",
   "pygments_lexer": "ipython3",
   "version": "3.8.0"
  }
 },
 "nbformat": 4,
 "nbformat_minor": 2
}
