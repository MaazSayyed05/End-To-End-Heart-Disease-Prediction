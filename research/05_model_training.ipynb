{
 "cells": [
  {
   "cell_type": "code",
   "execution_count": 1,
   "metadata": {},
   "outputs": [],
   "source": [
    "import os"
   ]
  },
  {
   "cell_type": "code",
   "execution_count": 2,
   "metadata": {},
   "outputs": [
    {
     "data": {
      "text/plain": [
       "'d:\\\\PW_DS\\\\Machine_Learning\\\\End-To-End-ML-Project-Implementation\\\\research'"
      ]
     },
     "execution_count": 2,
     "metadata": {},
     "output_type": "execute_result"
    }
   ],
   "source": [
    "pwd"
   ]
  },
  {
   "cell_type": "code",
   "execution_count": 3,
   "metadata": {},
   "outputs": [],
   "source": [
    "os.chdir('../')"
   ]
  },
  {
   "cell_type": "code",
   "execution_count": 4,
   "metadata": {},
   "outputs": [
    {
     "data": {
      "text/plain": [
       "'d:\\\\PW_DS\\\\Machine_Learning\\\\End-To-End-ML-Project-Implementation'"
      ]
     },
     "execution_count": 4,
     "metadata": {},
     "output_type": "execute_result"
    }
   ],
   "source": [
    "pwd"
   ]
  },
  {
   "cell_type": "markdown",
   "metadata": {},
   "source": [
    "## Entity"
   ]
  },
  {
   "cell_type": "code",
   "execution_count": 5,
   "metadata": {},
   "outputs": [],
   "source": [
    "from dataclasses import  dataclass\n",
    "from pathlib import Path\n",
    "\n",
    "@dataclass(frozen=True)\n",
    "class ModelTrainingConfig:\n",
    "    root_dir: Path\n",
    "    train_data: Path\n",
    "    test_data: Path\n",
    "    metrics: Path\n",
    "    trans_obj: Path\n",
    "    target_col: Path\n",
    "    best_model: Path\n",
    "\n"
   ]
  },
  {
   "cell_type": "markdown",
   "metadata": {},
   "source": [
    "## Config Manager"
   ]
  },
  {
   "cell_type": "code",
   "execution_count": 6,
   "metadata": {},
   "outputs": [],
   "source": [
    "from heart_disease_pred.utils.commom import  read_yaml, create_directories\n",
    "from heart_disease_pred.constants import *"
   ]
  },
  {
   "cell_type": "code",
   "execution_count": 7,
   "metadata": {},
   "outputs": [],
   "source": [
    "class ConfigManager:\n",
    "    def __init__(self, config_file_path  = CONFIG_FILE_PATH, schema_file_path = SCHEMA_FILE_PATH):\n",
    "        \n",
    "        self.config = read_yaml(config_file_path)\n",
    "        self.schema = read_yaml(schema_file_path)\n",
    "\n",
    "        create_directories([self.config.artifacts_root])\n",
    "\n",
    "    \n",
    "    def get_model_training_config(self) -> ModelTrainingConfig:\n",
    "\n",
    "        config = self.config.model_training\n",
    "        schema = self.schema\n",
    "        create_directories([config.root_dir])\n",
    "\n",
    "        model_training_config = ModelTrainingConfig(\n",
    "            root_dir = config.root_dir,\n",
    "            train_data = config.train_data,\n",
    "            test_data = config.test_data,\n",
    "            metrics = config.metrics,\n",
    "            trans_obj = config.trans_obj,\n",
    "            best_model = config.best_model,\n",
    "            target_col = schema.target\n",
    "        )\n",
    "\n",
    "        return model_training_config"
   ]
  },
  {
   "cell_type": "markdown",
   "metadata": {},
   "source": [
    "## Components"
   ]
  },
  {
   "cell_type": "code",
   "execution_count": 8,
   "metadata": {},
   "outputs": [
    {
     "name": "stdout",
     "output_type": "stream",
     "text": [
      "Requirement already satisfied: xgboost in c:\\users\\maaz\\anaconda3\\envs\\'heart'\\lib\\site-packages (2.0.3)\n",
      "Requirement already satisfied: numpy in c:\\users\\maaz\\anaconda3\\envs\\'heart'\\lib\\site-packages (from xgboost) (1.24.4)\n",
      "Requirement already satisfied: scipy in c:\\users\\maaz\\anaconda3\\envs\\'heart'\\lib\\site-packages (from xgboost) (1.10.1)\n"
     ]
    }
   ],
   "source": [
    "!pip install xgboost"
   ]
  },
  {
   "cell_type": "code",
   "execution_count": 9,
   "metadata": {},
   "outputs": [],
   "source": [
    "import pandas  as pd\n",
    "from box import  ConfigBox\n",
    "\n",
    "from heart_disease_pred.utils.commom import load_pickle, save_json, save_pickle\n",
    "\n",
    "from sklearn.ensemble import RandomForestClassifier\n",
    "from xgboost import XGBClassifier\n",
    "\n",
    "from sklearn.metrics import accuracy_score, precision_score, recall_score, f1_score, confusion_matrix, classification_report\n"
   ]
  },
  {
   "cell_type": "code",
   "execution_count": 10,
   "metadata": {},
   "outputs": [],
   "source": [
    "class ModelTraining:\n",
    "    def __init__(self, config: ModelTrainingConfig):\n",
    "        self.config = config\n",
    "\n",
    "    \n",
    "\n",
    "    def train(self):\n",
    "        train_data = pd.read_csv(self.config.train_data)\n",
    "        test_data = pd.read_csv(self.config.test_data)\n",
    "        target = list(self.config.target_col.keys())[0]\n",
    "\n",
    "\n",
    "\n",
    "        y_train  = train_data[target]\n",
    "        X_train  = train_data.drop([target], axis=1)\n",
    "\n",
    "        y_test  = test_data[target]\n",
    "        X_test  = test_data.drop([target], axis=1)\n",
    "\n",
    "\n",
    "        # Transform the data\n",
    "        transform_obj = load_pickle(self.config.trans_obj)\n",
    "\n",
    "        X_train_trans = pd.DataFrame(transform_obj.fit_transform(X_train),columns=transform_obj.get_feature_names_out())\n",
    "        X_test_trans = pd.DataFrame(transform_obj.transform(X_test),columns=transform_obj.get_feature_names_out())  \n",
    "\n",
    "\n",
    "        # Tranform the target data\n",
    "        target_map = {'No':0, 'Yes':1}\n",
    "        y_train_trans = y_train.map(target_map) \n",
    "        y_test_trans = y_test.map(target_map) \n",
    "\n",
    "\n",
    "        metrics = {\n",
    "            'rf' : {\n",
    "                'name': ['RandomForestClassifier'],\n",
    "                # 'model_obj': [],\n",
    "                'accuracy': [],\n",
    "                'precision': [],\n",
    "                'recall_score': [],\n",
    "                'f1_score': [],\n",
    "            },\n",
    "\n",
    "            'xg': {\n",
    "                'name': ['XGBClassifier'],\n",
    "                # 'model_obj': [],\n",
    "                'accuracy': [],\n",
    "                'precision': [],\n",
    "                'recall_score': [],\n",
    "                'f1_score': [],\n",
    "\n",
    "            }\n",
    "        }\n",
    "\n",
    "        models = {\n",
    "            'rf': RandomForestClassifier(),\n",
    "            'xg': XGBClassifier()\n",
    "        }\n",
    "\n",
    "        # metrics = ConfigBox(metrics)\n",
    "\n",
    "        best_accuracy = 0\n",
    "        best_model_obj = None\n",
    "\n",
    "        for model_name in list(models.keys()):\n",
    "\n",
    "            model_obj = models[model_name]\n",
    "\n",
    "            model_obj.fit(X_train_trans, y_train_trans)\n",
    "\n",
    "            y_pred = model_obj.predict(X_test_trans)\n",
    "\n",
    "            # metrics[model_name]['model_obj'].append(model_obj)\n",
    "            metrics[model_name]['accuracy'].append(accuracy_score(y_test_trans, y_pred))\n",
    "            metrics[model_name]['precision'].append(precision_score(y_test_trans, y_pred))\n",
    "            metrics[model_name]['recall_score'].append(recall_score(y_test_trans, y_pred))\n",
    "            metrics[model_name]['f1_score'].append(f1_score(y_test_trans, y_pred))\n",
    "\n",
    "            if metrics[model_name]['accuracy'][0] > best_accuracy:\n",
    "                best_accuracy = metrics[model_name]['accuracy']\n",
    "                best_model_obj = model_obj\n",
    "        \n",
    "        print(best_model_obj)\n",
    "        print(best_accuracy)\n",
    "        print(metrics)\n",
    "        \n",
    "        save_json(Path(self.config.metrics), metrics)\n",
    "        save_pickle(Path(self.config.best_model), best_model_obj)\n",
    "        save_pickle(Path(self.config.trans_obj), transform_obj)\n",
    "        \n",
    "\n"
   ]
  },
  {
   "cell_type": "markdown",
   "metadata": {},
   "source": [
    "## Pipeline"
   ]
  },
  {
   "cell_type": "code",
   "execution_count": 11,
   "metadata": {},
   "outputs": [
    {
     "name": "stdout",
     "output_type": "stream",
     "text": [
      "RandomForestClassifier()\n",
      "[0.9297602874797318]\n",
      "{'rf': {'name': ['RandomForestClassifier'], 'accuracy': [0.9297602874797318], 'precision': [0.9288716794865086], 'recall_score': [0.9311779825497019], 'f1_score': [0.9300234012084804]}, 'xg': {'name': ['XGBClassifier'], 'accuracy': [0.8922126298260222], 'precision': [0.9175859952002678], 'recall_score': [0.8624259061740484], 'f1_score': [0.8891512835304298]}}\n"
     ]
    }
   ],
   "source": [
    "config = ConfigManager()\n",
    "model_training_config = config.get_model_training_config()\n",
    "model_trainer = ModelTraining(model_training_config)\n",
    "\n",
    "model_trainer.train()\n"
   ]
  },
  {
   "cell_type": "code",
   "execution_count": 12,
   "metadata": {},
   "outputs": [],
   "source": [
    "models = {\n",
    "    'rf': RandomForestClassifier(),\n",
    "    'xg': XGBClassifier()\n",
    "}\n",
    "\n",
    "metrics = {\n",
    "            'rf' : {\n",
    "                'name': 'RandomForestClassifier',\n",
    "                'model_obj': [],\n",
    "                'accuracy': [],\n",
    "                'precision': [],\n",
    "                'recall_score': [],\n",
    "                'f1_score': [],\n",
    "            },\n",
    "\n",
    "            'xg': {\n",
    "                'name': 'XGBClassifier',\n",
    "                'model_obj': [],\n",
    "                'accuracy': [],\n",
    "                'precision': [],\n",
    "                'recall_score': [],\n",
    "                'f1_score': [],\n",
    "\n",
    "            }\n",
    "        }"
   ]
  },
  {
   "cell_type": "code",
   "execution_count": 13,
   "metadata": {},
   "outputs": [
    {
     "data": {
      "text/plain": [
       "{'rf': {'name': 'RandomForestClassifier',\n",
       "  'model_obj': [],\n",
       "  'accuracy': [],\n",
       "  'precision': [],\n",
       "  'recall_score': [],\n",
       "  'f1_score': []},\n",
       " 'xg': {'name': 'XGBClassifier',\n",
       "  'model_obj': [],\n",
       "  'accuracy': [],\n",
       "  'precision': [],\n",
       "  'recall_score': [],\n",
       "  'f1_score': []}}"
      ]
     },
     "execution_count": 13,
     "metadata": {},
     "output_type": "execute_result"
    }
   ],
   "source": [
    "metrics"
   ]
  },
  {
   "cell_type": "code",
   "execution_count": 14,
   "metadata": {},
   "outputs": [
    {
     "name": "stdout",
     "output_type": "stream",
     "text": [
      "{'name': 'RandomForestClassifier', 'model_obj': [], 'accuracy': [], 'precision': [], 'recall_score': [], 'f1_score': []}\n",
      "{'name': 'XGBClassifier', 'model_obj': [], 'accuracy': [], 'precision': [], 'recall_score': [], 'f1_score': []}\n"
     ]
    }
   ],
   "source": [
    "for model in list(models.keys()):\n",
    "    temp = metrics[model]\n",
    "    print(temp)"
   ]
  },
  {
   "cell_type": "code",
   "execution_count": null,
   "metadata": {},
   "outputs": [],
   "source": []
  },
  {
   "cell_type": "code",
   "execution_count": null,
   "metadata": {},
   "outputs": [],
   "source": []
  }
 ],
 "metadata": {
  "kernelspec": {
   "display_name": "'heart'",
   "language": "python",
   "name": "python3"
  },
  "language_info": {
   "codemirror_mode": {
    "name": "ipython",
    "version": 3
   },
   "file_extension": ".py",
   "mimetype": "text/x-python",
   "name": "python",
   "nbconvert_exporter": "python",
   "pygments_lexer": "ipython3",
   "version": "3.8.0"
  }
 },
 "nbformat": 4,
 "nbformat_minor": 2
}
