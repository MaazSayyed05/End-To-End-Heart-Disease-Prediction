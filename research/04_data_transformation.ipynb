{
 "cells": [
  {
   "cell_type": "code",
   "execution_count": 1,
   "metadata": {},
   "outputs": [],
   "source": [
    "import os"
   ]
  },
  {
   "cell_type": "code",
   "execution_count": 2,
   "metadata": {},
   "outputs": [
    {
     "data": {
      "text/plain": [
       "'d:\\\\PW_DS\\\\Machine_Learning\\\\End-To-End-ML-Project-Implementation\\\\research'"
      ]
     },
     "execution_count": 2,
     "metadata": {},
     "output_type": "execute_result"
    }
   ],
   "source": [
    "pwd"
   ]
  },
  {
   "cell_type": "code",
   "execution_count": 3,
   "metadata": {},
   "outputs": [],
   "source": [
    "os.chdir('../')"
   ]
  },
  {
   "cell_type": "code",
   "execution_count": 4,
   "metadata": {},
   "outputs": [
    {
     "data": {
      "text/plain": [
       "'d:\\\\PW_DS\\\\Machine_Learning\\\\End-To-End-ML-Project-Implementation'"
      ]
     },
     "execution_count": 4,
     "metadata": {},
     "output_type": "execute_result"
    }
   ],
   "source": [
    "pwd"
   ]
  },
  {
   "cell_type": "markdown",
   "metadata": {},
   "source": [
    "## Entity"
   ]
  },
  {
   "cell_type": "code",
   "execution_count": 5,
   "metadata": {},
   "outputs": [],
   "source": [
    "from dataclasses import dataclass\n",
    "from pathlib import Path\n",
    "\n",
    "@dataclass(frozen=True)\n",
    "class DataTransformationConfig:\n",
    "    root_dir: Path\n",
    "    train_data: Path\n",
    "    test_data: Path\n",
    "    trans_obj: Path\n",
    "    data_file: Path\n",
    "\n"
   ]
  },
  {
   "cell_type": "markdown",
   "metadata": {},
   "source": [
    "## Config Manager"
   ]
  },
  {
   "cell_type": "code",
   "execution_count": 6,
   "metadata": {},
   "outputs": [],
   "source": [
    "from heart_disease_pred.utils.commom import read_yaml, create_directories, save_csv\n",
    "from heart_disease_pred.constants import  *\n",
    "import pandas as pd"
   ]
  },
  {
   "cell_type": "code",
   "execution_count": 7,
   "metadata": {},
   "outputs": [],
   "source": [
    "from heart_disease_pred.utils.commom import read_yaml, create_directories, save_csv\n",
    "from heart_disease_pred.constants import  *\n",
    "import pandas as pd\n",
    "\n",
    "class ConfigManager:\n",
    "    def __init__(\n",
    "        self,\n",
    "        config_file_path = CONFIG_FILE_PATH,\n",
    "        schema_file_path = SCHEMA_FILE_PATH):\n",
    "\n",
    "        self.config = read_yaml(config_file_path)\n",
    "        self.schema = read_yaml(schema_file_path)\n",
    "\n",
    "        create_directories([self.config.artifacts_root])\n",
    "    \n",
    "\n",
    "    def get_data_transformation_config(self) -> DataTransformationConfig:\n",
    "\n",
    "        config = self.config.data_transformation\n",
    "\n",
    "        create_directories([config.root_dir])\n",
    "\n",
    "        data_transformation_config = DataTransformationConfig(\n",
    "            root_dir=config.root_dir,\n",
    "            train_data=config.train_data,\n",
    "            test_data=config.test_data,\n",
    "            trans_obj=config.trans_obj,\n",
    "            data_file=config.data_file\n",
    "        )\n",
    "\n",
    "        return data_transformation_config\n",
    "\n",
    "\n"
   ]
  },
  {
   "cell_type": "code",
   "execution_count": null,
   "metadata": {},
   "outputs": [],
   "source": []
  },
  {
   "cell_type": "markdown",
   "metadata": {},
   "source": [
    "## Components"
   ]
  },
  {
   "cell_type": "code",
   "execution_count": 8,
   "metadata": {},
   "outputs": [],
   "source": [
    "import pandas as pd\n",
    "\n",
    "from sklearn.model_selection import train_test_split\n",
    "\n",
    "from sklearn.pipeline import Pipeline\n",
    "\n",
    "from sklearn.preprocessing import StandardScaler, OrdinalEncoder\n",
    "from sklearn.impute import SimpleImputer\n",
    "\n",
    "from sklearn.compose import ColumnTransformer\n",
    "\n",
    "from heart_disease_pred.utils.commom import  save_pickle\n",
    "\n",
    "import os, sys\n",
    "from pathlib import Path\n",
    "from heart_disease_pred.logger import logging\n",
    "from heart_disease_pred.exception import CustomException\n",
    "\n",
    "import pickle"
   ]
  },
  {
   "cell_type": "code",
   "execution_count": 9,
   "metadata": {},
   "outputs": [],
   "source": [
    "class DataTransformation:\n",
    "    def __init__(\n",
    "        self,\n",
    "        config: DataTransformationConfig):\n",
    "\n",
    "        self.config = config\n",
    "\n",
    "    \n",
    "    def split_data(self):\n",
    "        try:\n",
    "\n",
    "            data = pd.read_csv(self.config.data_file)\n",
    "\n",
    "            data = data.drop(['Unnamed: 0'], axis = 1)\n",
    "\n",
    "            train_data, test_data = train_test_split(data, test_size=0.22, random_state=42)\n",
    "\n",
    "            train_data.to_csv(self.config.train_data, index=False)\n",
    "            test_data.to_csv(self.config.test_data, index=False)\n",
    "        \n",
    "        except Exception as e:\n",
    "            raise CustomException(e,sys)\n",
    "    \n",
    "    def transform_data(self):\n",
    "        try:\n",
    "\n",
    "            train_data = pd.read_csv(self.config.train_data)\n",
    "            test_data = pd.read_csv(self.config.test_data)\n",
    "\n",
    "            # train_data = train_data.drop(['Unnamed: 0'], axis = 1)\n",
    "            # test_data = test_data.drop(['Unnamed: 0'], axis = 1)\n",
    "\n",
    "            cat_features = [col for col in train_data.columns if train_data[col].dtype == 'object']\n",
    "            num_features = [col for col in train_data.columns if train_data[col].dtype != 'object']\n",
    "\n",
    "            cat_features.remove('HeartDisease')\n",
    "\n",
    "            cat_categories = [\n",
    "\n",
    "            ['No',  'Yes'],\n",
    "            ['No' , 'Yes'],\n",
    "            ['No' , 'Yes'],\n",
    "            ['No', 'Yes'],\n",
    "            ['Female' , 'Male'],\n",
    "            ['18-24',  '25-29',  '30-34',  '35-39',  '40-44' , '45-49' , '50-54',  '55-59', '60-64',  '65-69' , '70-74',  '75-79' , '80 or older'],\n",
    "            ['White' , 'Black' , 'Asian' , 'American Indian/Alaskan Native',  'Hispanic','Other'],\n",
    "            ['No' , 'No, borderline diabetes' , 'Yes (during pregnancy)' , 'Yes'],\n",
    "            ['No',  'Yes'],\n",
    "            ['Poor',  'Fair' , 'Good',  'Very good',  'Excellent'],\n",
    "            ['No',  'Yes'],\n",
    "            ['No' , 'Yes'],\n",
    "            ['No' , 'Yes'],\n",
    "\n",
    "            ]\n",
    "\n",
    "            num_pipeline = Pipeline(\n",
    "                steps = [\n",
    "                    ('imputer', SimpleImputer(strategy='median')),\n",
    "                    ('scaler', StandardScaler())\n",
    "                ]\n",
    "            )\n",
    "\n",
    "            cat_pipeline = Pipeline(\n",
    "                steps = [\n",
    "                    ('imputer', SimpleImputer(strategy='most_frequent')),\n",
    "                    ('ordinal_encoder', OrdinalEncoder(categories=cat_categories))\n",
    "                ]\n",
    "            )\n",
    "\n",
    "\n",
    "            transform_data = ColumnTransformer([\n",
    "                ('num_pipeline', num_pipeline, num_features),\n",
    "                ('cat_pipeline', cat_pipeline, cat_features),\n",
    "            \n",
    "            ])\n",
    "\n",
    "            save_pickle(self.config.trans_obj, transform_data)\n",
    "\n",
    "    \n",
    "        except Exception as e:\n",
    "            raise CustomException(e,sys)\n"
   ]
  },
  {
   "cell_type": "code",
   "execution_count": null,
   "metadata": {},
   "outputs": [],
   "source": []
  },
  {
   "cell_type": "markdown",
   "metadata": {},
   "source": [
    "## Piepline"
   ]
  },
  {
   "cell_type": "code",
   "execution_count": 10,
   "metadata": {},
   "outputs": [],
   "source": [
    "config = ConfigManager()\n",
    "data_transformation_config = config.get_data_transformation_config()\n",
    "data_transformation = DataTransformation(data_transformation_config)\n",
    "\n",
    "data_transformation.split_data()\n",
    "\n",
    "data_transformation.transform_data()\n"
   ]
  },
  {
   "cell_type": "code",
   "execution_count": null,
   "metadata": {},
   "outputs": [],
   "source": []
  },
  {
   "cell_type": "code",
   "execution_count": null,
   "metadata": {},
   "outputs": [],
   "source": []
  },
  {
   "cell_type": "code",
   "execution_count": null,
   "metadata": {},
   "outputs": [],
   "source": []
  },
  {
   "cell_type": "code",
   "execution_count": null,
   "metadata": {},
   "outputs": [],
   "source": []
  }
 ],
 "metadata": {
  "kernelspec": {
   "display_name": "'heart'",
   "language": "python",
   "name": "python3"
  },
  "language_info": {
   "codemirror_mode": {
    "name": "ipython",
    "version": 3
   },
   "file_extension": ".py",
   "mimetype": "text/x-python",
   "name": "python",
   "nbconvert_exporter": "python",
   "pygments_lexer": "ipython3",
   "version": "3.8.0"
  }
 },
 "nbformat": 4,
 "nbformat_minor": 2
}
